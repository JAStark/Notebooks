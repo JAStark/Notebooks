{
 "metadata": {
  "name": "",
  "signature": "sha256:26c6ce8832dc897689909298cc7acc8db7624ada4441b22b18541849e62d0061"
 },
 "nbformat": 3,
 "nbformat_minor": 0,
 "worksheets": [
  {
   "cells": [
    {
     "cell_type": "markdown",
     "metadata": {},
     "source": [
      "<h1>Binary Search</h1>"
     ]
    },
    {
     "cell_type": "markdown",
     "metadata": {},
     "source": [
      "* <h2>Binary Search: my code then modified (improved) with http://interactivepython.org/runestone/static/pythonds/SortSearch/TheBinarySearch.html</h2>"
     ]
    },
    {
     "cell_type": "code",
     "collapsed": false,
     "input": [
      "def binarySearch(n, target):\n",
      "    minimum = 0\n",
      "    maximum = len(n)-1\n",
      "    found = False\n",
      "    \n",
      "    while minimum<= maximum and not found:\n",
      "        guess = (maximum+minimum)//2\n",
      "        if n[guess] == target:\n",
      "            print(\"Yeay!\")\n",
      "            found = True\n",
      "        else:\n",
      "            if target < n[guess]:\n",
      "                maximum = guess-1\n",
      "            else:\n",
      "                minimum = guess+1\n",
      "                \n",
      "    return found\n",
      "\n",
      "\n",
      "primes = [2, 3, 5, 7, 11, 13, 17, 19, 23, 29, 31, 37, 41, 43, 47, 53, 59, 61, 67, 71, 73, 79, 83, 89, 97]\n",
      "print(binarySearch(primes, -2))"
     ],
     "language": "python",
     "metadata": {},
     "outputs": [
      {
       "output_type": "stream",
       "stream": "stdout",
       "text": [
        "False\n"
       ]
      }
     ],
     "prompt_number": 46
    },
    {
     "cell_type": "markdown",
     "metadata": {},
     "source": [
      "<p>The running time of a binary search is dictacted by Log<sub>n</sub><sup>2</sup></p>"
     ]
    },
    {
     "cell_type": "markdown",
     "metadata": {},
     "source": [
      "<h1>Sorting</h1>"
     ]
    },
    {
     "cell_type": "markdown",
     "metadata": {},
     "source": [
      "* <h2>Selection Sort from http://interactivepython.org/runestone/static/pythonds/SortSearch/TheSelectionSort.html</h2>"
     ]
    },
    {
     "cell_type": "code",
     "collapsed": false,
     "input": [
      "def sorting(a):\n",
      "    for i in range(len(a)-1, 0, -1):         # for index in range(Start: array length-1, End: 0; Step: -1) ...going backwards?\n",
      "        positionOfMax = 0                    # position of max will be at the end of the loop (see range() above)\n",
      "        for l in range(1, i+1):              # for index in range starting at 1, then ending at index+1 for each loop...\n",
      "            if a[l] > a[positionOfMax]:      # if array[l, i+1] is > array[position of max [0]]\n",
      "                positionOfMax = l            # then position of max [0] moves to l...swaps position of max with a[l]\n",
      "                \n",
      "        new_array = a[i]\n",
      "        a[i] = a[positionOfMax]\n",
      "        a[positionOfMax] = new_array\n",
      "        \n",
      "array = [18, 6, 66, -1, 44, 9, 2.2, 14]        \n",
      "sorting(array)\n",
      "print(array)"
     ],
     "language": "python",
     "metadata": {},
     "outputs": [
      {
       "output_type": "stream",
       "stream": "stdout",
       "text": [
        "[-1, 2.2, 6, 9, 14, 18, 44, 66]\n"
       ]
      }
     ],
     "prompt_number": 13
    },
    {
     "cell_type": "markdown",
     "metadata": {},
     "source": [
      "* <h2>Selection Sort from http://sortvis.org/index.html</h2>"
     ]
    },
    {
     "cell_type": "code",
     "collapsed": false,
     "input": [
      "def selectionsort(lst):\n",
      "    for j in range(len(lst)-1, -1, -1):\n",
      "        m = lst.index(max(lst[:j+1]))  # No, this is not efficient ;)\n",
      "        lst[m], lst[j] = lst[j], lst[m]\n",
      "        \n",
      "            \n",
      "array = [18, 6, 6000, -1, 41, 9, -2.2, 14]\n",
      "selectionsort(array)\n",
      "print(array)"
     ],
     "language": "python",
     "metadata": {},
     "outputs": [
      {
       "output_type": "stream",
       "stream": "stdout",
       "text": [
        "[-2.2, -1, 6, 9, 14, 18, 41, 6000]\n"
       ]
      }
     ],
     "prompt_number": 18
    },
    {
     "cell_type": "markdown",
     "metadata": {},
     "source": [
      "* <h2>Insertion Sort from http://interactivepython.org/runestone/static/pythonds/SortSearch/TheInsertionSort.html</h2>"
     ]
    },
    {
     "cell_type": "code",
     "collapsed": false,
     "input": [
      "def insertionSort(alist):\n",
      "   for index in range(1,len(alist)):\n",
      "\n",
      "     currentvalue = alist[index]\n",
      "     position = index\n",
      "\n",
      "     while position>0 and alist[position-1]>currentvalue:\n",
      "         alist[position]=alist[position-1]\n",
      "         position = position-1\n",
      "\n",
      "     alist[position]=currentvalue\n",
      "\n",
      "alist = [54,26,93,17,77,31,44,55,20]\n",
      "insertionSort(alist)\n",
      "print(alist)"
     ],
     "language": "python",
     "metadata": {},
     "outputs": [
      {
       "output_type": "stream",
       "stream": "stdout",
       "text": [
        "[17, 20, 26, 31, 44, 54, 55, 77, 93]\n"
       ]
      }
     ],
     "prompt_number": 19
    },
    {
     "cell_type": "markdown",
     "metadata": {},
     "source": [
      "* <h2>Insertion Sort from http://sortvis.org/index.html </h2>"
     ]
    },
    {
     "cell_type": "code",
     "collapsed": false,
     "input": [
      "def insertionsort(lst):\n",
      "    for i in range(1, len(lst)):          # I is each index in the initial array\n",
      "        for j in range(i):                # J is the subarray that is gradually extending from indeces left to right\n",
      "            if lst[i] < lst[j]:\n",
      "                x = lst.pop(i)\n",
      "                lst.insert(j, x)\n",
      "                \n",
      "alist = [54,26,93,17,77,31,44,55,20]\n",
      "insertionsort(alist)\n",
      "print(alist)"
     ],
     "language": "python",
     "metadata": {},
     "outputs": [
      {
       "output_type": "stream",
       "stream": "stdout",
       "text": [
        "[17, 20, 26, 31, 44, 54, 55, 77, 93]\n"
       ]
      }
     ],
     "prompt_number": 20
    },
    {
     "cell_type": "markdown",
     "metadata": {},
     "source": [
      "<h1>Recursion</h1>"
     ]
    },
    {
     "cell_type": "markdown",
     "metadata": {},
     "source": [
      "* <h2>Recursion ('classic') from http://www.python-course.eu/recursive_functions.php</h2>"
     ]
    },
    {
     "cell_type": "code",
     "collapsed": false,
     "input": [
      "def factorial(n):\n",
      "    if n == 1 or n==0:\n",
      "        return 1\n",
      "    else:\n",
      "        return n * factorial(n-1)\n",
      "        \n",
      "print(factorial(5))"
     ],
     "language": "python",
     "metadata": {},
     "outputs": [
      {
       "output_type": "stream",
       "stream": "stdout",
       "text": [
        "120\n"
       ]
      }
     ],
     "prompt_number": 30
    },
    {
     "cell_type": "markdown",
     "metadata": {},
     "source": [
      "* <h2>Recursion (iterative) also from http://www.python-course.eu/recursive_functions.php</h2>"
     ]
    },
    {
     "cell_type": "code",
     "collapsed": false,
     "input": [
      "def iterative_factorial(n):\n",
      "    result = 1\n",
      "    for i in range(2,n+1):\n",
      "        result *= i\n",
      "    return result\n",
      "    \n",
      "print(iterative_factorial(5))"
     ],
     "language": "python",
     "metadata": {},
     "outputs": [
      {
       "output_type": "stream",
       "stream": "stdout",
       "text": [
        "120\n"
       ]
      }
     ],
     "prompt_number": 31
    },
    {
     "cell_type": "markdown",
     "metadata": {},
     "source": [
      "* <h2>Recursion on palindrome (I wrote this!)</h2>"
     ]
    },
    {
     "cell_type": "code",
     "collapsed": false,
     "input": [
      "def palindrome(text):\n",
      "    if len(text) == 1 or len(text) == 0:\n",
      "        return True\n",
      "    else:\n",
      "        if text[0] == text[-1]:\n",
      "            text = text[1:-1]\n",
      "            return palindrome(text)\n",
      "        else:\n",
      "            return False\n",
      "        \n",
      "print(palindrome('kayak'))"
     ],
     "language": "python",
     "metadata": {},
     "outputs": [
      {
       "output_type": "stream",
       "stream": "stdout",
       "text": [
        "True\n"
       ]
      }
     ],
     "prompt_number": 36
    },
    {
     "cell_type": "markdown",
     "metadata": {},
     "source": [
      "* <h2>Palindrome solution from Stackoverflow http://stackoverflow.com/questions/952110/recursive-function-palindrome-in-python</h2>"
     ]
    },
    {
     "cell_type": "code",
     "collapsed": false,
     "input": [
      "def ispalindrome(word):\n",
      "    if len(word) < 2: return True\n",
      "    if word[0] != word[-1]: return False\n",
      "    return ispalindrome(word[1:-1])\n",
      "\n",
      "print(ispalindrome('tacocat'))"
     ],
     "language": "python",
     "metadata": {},
     "outputs": [
      {
       "output_type": "stream",
       "stream": "stdout",
       "text": [
        "True\n"
       ]
      }
     ],
     "prompt_number": 40
    },
    {
     "cell_type": "markdown",
     "metadata": {},
     "source": [
      "<h4>(from the same person as above)</h4>"
     ]
    },
    {
     "cell_type": "code",
     "collapsed": false,
     "input": [
      "def ispalindrome(word):\n",
      "    return word == word[::-1]\n",
      "\n",
      "print(ispalindrome('nick'))"
     ],
     "language": "python",
     "metadata": {},
     "outputs": [
      {
       "output_type": "stream",
       "stream": "stdout",
       "text": [
        "False\n"
       ]
      }
     ],
     "prompt_number": 43
    },
    {
     "cell_type": "markdown",
     "metadata": {},
     "source": [
      "* <h2>Computing powers with recursion from http://stackoverflow.com/questions/13708670/recursion-function-in-python</h2>"
     ]
    },
    {
     "cell_type": "code",
     "collapsed": false,
     "input": [
      "def power(x, y):\n",
      "    if y == 0:\n",
      "        return 1\n",
      "    else:\n",
      "        return x*power(x, y-1)\n",
      "    \n",
      "power(3, 5)"
     ],
     "language": "python",
     "metadata": {},
     "outputs": [
      {
       "metadata": {},
       "output_type": "pyout",
       "prompt_number": 20,
       "text": [
        "243"
       ]
      }
     ],
     "prompt_number": 20
    },
    {
     "cell_type": "markdown",
     "metadata": {},
     "source": [
      "* <h2>Fibonacci (I wrote this!)</h2>"
     ]
    },
    {
     "cell_type": "markdown",
     "metadata": {},
     "source": [
      "<em>fibonacci(10)[or 9]: 1, 1, 2, 3, 5, 8, 13, 21, 34, 55<em>"
     ]
    },
    {
     "cell_type": "code",
     "collapsed": false,
     "input": [
      "fibb_list = [1, 1,]\n",
      "\n",
      "def fibonacci(n):\n",
      "    if n <=2: return 1\n",
      "    if n >=3:\n",
      "        j, k, fibb = 1, 1, 2\n",
      "        for i in range(n-2):\n",
      "            fibb = (j+k)\n",
      "            j = k\n",
      "            k = fibb\n",
      "            fibb_list.append(fibb)\n",
      "    \n",
      "fibonacci(10)\n",
      "print(fibb_list)"
     ],
     "language": "python",
     "metadata": {},
     "outputs": [
      {
       "output_type": "stream",
       "stream": "stdout",
       "text": [
        "[1, 1, 2, 3, 5, 8, 13, 21, 34, 55]\n"
       ]
      }
     ],
     "prompt_number": 16
    },
    {
     "cell_type": "code",
     "collapsed": false,
     "input": [
      "#writen by Samantha. Not quite right :D\n",
      "def fib(n):\n",
      "    if n >=2:\n",
      "        return fib(n-1) + fib(n-2)\n",
      "    if n==1:\n",
      "        return 1\n",
      "    \n",
      "print(fib(8))"
     ],
     "language": "python",
     "metadata": {},
     "outputs": [
      {
       "output_type": "stream",
       "stream": "stdout",
       "text": [
        "21\n"
       ]
      }
     ],
     "prompt_number": 2
    },
    {
     "cell_type": "code",
     "collapsed": false,
     "input": [],
     "language": "python",
     "metadata": {},
     "outputs": []
    }
   ],
   "metadata": {}
  }
 ]
}